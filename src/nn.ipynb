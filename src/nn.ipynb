{
 "cells": [
  {
   "cell_type": "code",
   "execution_count": 17,
   "metadata": {},
   "outputs": [],
   "source": [
    "from dataloader import MinibooneLoader\n",
    "from sklearn.preprocessing import StandardScaler\n",
    "from sklearn.pipeline import Pipeline\n",
    "from sklearn.utils import shuffle\n",
    "from sklearn.model_selection import train_test_split\n",
    "\n",
    "shuffleSeed = 0\n",
    "trainSize = 0.8\n",
    "testSize = 0.2"
   ]
  },
  {
   "cell_type": "code",
   "execution_count": 18,
   "metadata": {},
   "outputs": [],
   "source": [
    "dataset = MinibooneLoader().loadMiniboone()\n",
    "\n",
    "rawEvents = dataset.events"
   ]
  },
  {
   "cell_type": "code",
   "execution_count": 19,
   "metadata": {},
   "outputs": [],
   "source": [
    "# Set up a preprocessing pipeline\n",
    "estimators = [\n",
    "    # Standardizes and scales the dataset\n",
    "    ['scale', StandardScaler()]\n",
    "]\n",
    "pipe = Pipeline(estimators).fit(rawEvents)\n",
    "\n",
    "# Transform the data using the prepared pipeline.\n",
    "stdEvents = pipe.transform(rawEvents)"
   ]
  },
  {
   "cell_type": "code",
   "execution_count": 20,
   "metadata": {},
   "outputs": [
    {
     "output_type": "stream",
     "name": "stdout",
     "text": [
      "[[ 0.04852549  0.05710245 -0.42166557 ...  0.04230077  0.08020339\n   0.0614591 ]\n [ 0.08522973  0.05787857  0.40372423 ...  0.15819105  0.06338857\n   0.0602966 ]\n [ 0.03886527  0.05797087 -0.56084576 ...  0.03024111  0.03142102\n   0.06056402]\n ...\n [ 0.06007261  0.07552737  0.02669232 ...  0.06275209  0.08296288\n   0.06197942]\n [ 0.06221417  0.06761905 -0.02986604 ...  0.07141983  0.07571434\n   0.05977339]\n [ 0.06484492  0.0546634   0.00282108 ...  0.0365456   0.03887806\n   0.0591355 ]]\n[0 1 0 ... 1 1 1]\n"
     ]
    }
   ],
   "source": [
    "\n",
    "# Shuffle the dataset and split into training and test sets.\n",
    "X_train, X_test, y_train, y_test = train_test_split(stdEvents, dataset.classifications, shuffle=True, random_state=shuffleSeed, train_size=trainSize, test_size=testSize)\n",
    "\n",
    "print(X_train)\n",
    "print(y_train)"
   ]
  }
 ],
 "metadata": {
  "kernelspec": {
   "display_name": "Python 3",
   "language": "python",
   "name": "python3"
  },
  "language_info": {
   "codemirror_mode": {
    "name": "ipython",
    "version": 3
   },
   "file_extension": ".py",
   "mimetype": "text/x-python",
   "name": "python",
   "nbconvert_exporter": "python",
   "pygments_lexer": "ipython3",
   "version": "3.8.5-final"
  }
 },
 "nbformat": 4,
 "nbformat_minor": 4
}